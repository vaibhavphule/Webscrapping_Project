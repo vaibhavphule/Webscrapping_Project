{
 "cells": [
  {
   "cell_type": "code",
   "execution_count": 2,
   "id": "a2497c60",
   "metadata": {},
   "outputs": [],
   "source": [
    "import requests\n",
    "from bs4 import BeautifulSoup"
   ]
  },
  {
   "cell_type": "code",
   "execution_count": 3,
   "id": "4d2c66b0",
   "metadata": {},
   "outputs": [],
   "source": [
    "url=\"https://www.cricbuzz.com/live-cricket-scorecard/35612/mi-vs-rcb-1st-match-indian-premier-league-2021\"\n",
    "page=requests.get(url)\n",
    "soup=BeautifulSoup(page.content,'html5lib')\n",
    "#soup"
   ]
  },
  {
   "cell_type": "code",
   "execution_count": 4,
   "id": "8d51f57e",
   "metadata": {},
   "outputs": [
    {
     "data": {
      "text/plain": [
       "<div class=\"cb-col cb-col-100 cb-ltst-wgt-hdr\"> <div class=\"cb-col cb-col-100 cb-scrd-hdr-rw\"> <span>Mumbai Indians Innings</span> <span class=\"pull-right\">159-9 (20 Ov)</span> </div> <div class=\"cb-col cb-col-100 cb-scrd-sub-hdr cb-bg-gray\"> <div class=\"cb-col cb-col-27 text-bold\">Batsman</div> <div class=\"cb-col cb-col-33\"></div> <div class=\"cb-col cb-col-8 text-right text-bold\">R</div> <div class=\"cb-col cb-col-8 text-right\">B</div> <div class=\"cb-col cb-col-8 text-right\">4s</div> <div class=\"cb-col cb-col-8 text-right\" style=\"padding-right:10px;\">6s</div> <div class=\"cb-col cb-col-8 text-right\">SR</div> </div> <div class=\"cb-col cb-col-100 cb-scrd-itms\"> <div class=\"cb-col cb-col-27\"> <a class=\"cb-text-link\" href=\"/profiles/576/rohit\" title=\"View profile of Rohit\"> Rohit (c) </a> </div> <div class=\"cb-col cb-col-33\"> <span class=\"text-gray\">run out (Kohli/Chahal) </span>  </div> <div class=\"cb-col cb-col-8 text-right text-bold\">19</div> <div class=\"cb-col cb-col-8 text-right\">15</div> <div class=\"cb-col cb-col-8 text-right\">1</div> <div class=\"cb-col cb-col-8 text-right\" style=\"padding-right:10px;\">1</div> <div class=\"cb-col cb-col-8 text-right\">126.67</div> </div> <div class=\"cb-col cb-col-100 cb-scrd-itms\"> <div class=\"cb-col cb-col-27\"> <a class=\"cb-text-link\" href=\"/profiles/7752/chris-lynn\" title=\"View profile of Chris Lynn\"> Chris Lynn </a> </div> <div class=\"cb-col cb-col-33\"> <span class=\"text-gray\"> c and b Washington Sundar</span>  </div> <div class=\"cb-col cb-col-8 text-right text-bold\">49</div> <div class=\"cb-col cb-col-8 text-right\">35</div> <div class=\"cb-col cb-col-8 text-right\">4</div> <div class=\"cb-col cb-col-8 text-right\" style=\"padding-right:10px;\">3</div> <div class=\"cb-col cb-col-8 text-right\">140.00</div> </div> <div class=\"cb-col cb-col-100 cb-scrd-itms\"> <div class=\"cb-col cb-col-27\"> <a class=\"cb-text-link\" href=\"/profiles/7915/suryakumar-yadav\" title=\"View profile of Suryakumar Yadav\"> Suryakumar Yadav </a> </div> <div class=\"cb-col cb-col-33\"> <span class=\"text-gray\">c de Villiers b Jamieson</span>  </div> <div class=\"cb-col cb-col-8 text-right text-bold\">31</div> <div class=\"cb-col cb-col-8 text-right\">23</div> <div class=\"cb-col cb-col-8 text-right\">4</div> <div class=\"cb-col cb-col-8 text-right\" style=\"padding-right:10px;\">1</div> <div class=\"cb-col cb-col-8 text-right\">134.78</div> </div> <div class=\"cb-col cb-col-100 cb-scrd-itms\"> <div class=\"cb-col cb-col-27\"> <a class=\"cb-text-link\" href=\"/profiles/10276/ishan-kishan\" title=\"View profile of Ishan Kishan\"> Ishan Kishan (wk) </a> </div> <div class=\"cb-col cb-col-33\"> <span class=\"text-gray\">lbw b Harshal Patel</span>  </div> <div class=\"cb-col cb-col-8 text-right text-bold\">28</div> <div class=\"cb-col cb-col-8 text-right\">19</div> <div class=\"cb-col cb-col-8 text-right\">2</div> <div class=\"cb-col cb-col-8 text-right\" style=\"padding-right:10px;\">1</div> <div class=\"cb-col cb-col-8 text-right\">147.37</div> </div> <div class=\"cb-col cb-col-100 cb-scrd-itms\"> <div class=\"cb-col cb-col-27\"> <a class=\"cb-text-link\" href=\"/profiles/9647/hardik-pandya\" title=\"View profile of Hardik Pandya\"> Hardik Pandya </a> </div> <div class=\"cb-col cb-col-33\"> <span class=\"text-gray\">lbw b Harshal Patel</span>  </div> <div class=\"cb-col cb-col-8 text-right text-bold\">13</div> <div class=\"cb-col cb-col-8 text-right\">10</div> <div class=\"cb-col cb-col-8 text-right\">2</div> <div class=\"cb-col cb-col-8 text-right\" style=\"padding-right:10px;\">0</div> <div class=\"cb-col cb-col-8 text-right\">130.00</div> </div> <div class=\"cb-col cb-col-100 cb-scrd-itms\"> <div class=\"cb-col cb-col-27\"> <a class=\"cb-text-link\" href=\"/profiles/657/pollard\" title=\"View profile of Pollard\"> Pollard </a> </div> <div class=\"cb-col cb-col-33\"> <span class=\"text-gray\">c Washington Sundar b Harshal Patel</span>  </div> <div class=\"cb-col cb-col-8 text-right text-bold\">7</div> <div class=\"cb-col cb-col-8 text-right\">9</div> <div class=\"cb-col cb-col-8 text-right\">1</div> <div class=\"cb-col cb-col-8 text-right\" style=\"padding-right:10px;\">0</div> <div class=\"cb-col cb-col-8 text-right\">77.78</div> </div> <div class=\"cb-col cb-col-100 cb-scrd-itms\"> <div class=\"cb-col cb-col-27\"> <a class=\"cb-text-link\" href=\"/profiles/11311/krunal-pandya\" title=\"View profile of Krunal Pandya\"> Krunal Pandya </a> </div> <div class=\"cb-col cb-col-33\"> <span class=\"text-gray\">c Christian b Harshal Patel</span>  </div> <div class=\"cb-col cb-col-8 text-right text-bold\">7</div> <div class=\"cb-col cb-col-8 text-right\">7</div> <div class=\"cb-col cb-col-8 text-right\">1</div> <div class=\"cb-col cb-col-8 text-right\" style=\"padding-right:10px;\">0</div> <div class=\"cb-col cb-col-8 text-right\">100.00</div> </div> <div class=\"cb-col cb-col-100 cb-scrd-itms\"> <div class=\"cb-col cb-col-27\"> <a class=\"cb-text-link\" href=\"/profiles/14565/marco-jansen\" title=\"View profile of Marco Jansen\"> Marco Jansen </a> </div> <div class=\"cb-col cb-col-33\"> <span class=\"text-gray\"> b Harshal Patel</span>  </div> <div class=\"cb-col cb-col-8 text-right text-bold\">0</div> <div class=\"cb-col cb-col-8 text-right\">2</div> <div class=\"cb-col cb-col-8 text-right\">0</div> <div class=\"cb-col cb-col-8 text-right\" style=\"padding-right:10px;\">0</div> <div class=\"cb-col cb-col-8 text-right\">0.00</div> </div> <div class=\"cb-col cb-col-100 cb-scrd-itms\"> <div class=\"cb-col cb-col-27\"> <a class=\"cb-text-link\" href=\"/profiles/12087/rahul-chahar\" title=\"View profile of Rahul Chahar\"> Rahul Chahar </a> </div> <div class=\"cb-col cb-col-33\"> <span class=\"text-gray\">run out (Kohli/de Villiers) </span>  </div> <div class=\"cb-col cb-col-8 text-right text-bold\">0</div> <div class=\"cb-col cb-col-8 text-right\">0</div> <div class=\"cb-col cb-col-8 text-right\">0</div> <div class=\"cb-col cb-col-8 text-right\" style=\"padding-right:10px;\">0</div> <div class=\"cb-col cb-col-8 text-right\">0.00</div> </div> <div class=\"cb-col cb-col-100 cb-scrd-itms\"> <div class=\"cb-col cb-col-27\"> <a class=\"cb-text-link\" href=\"/profiles/9311/bumrah\" title=\"View profile of Bumrah\"> Bumrah </a> </div> <div class=\"cb-col cb-col-33\"> <span class=\"text-gray\">not out</span>  </div> <div class=\"cb-col cb-col-8 text-right text-bold\">1</div> <div class=\"cb-col cb-col-8 text-right\">2</div> <div class=\"cb-col cb-col-8 text-right\">0</div> <div class=\"cb-col cb-col-8 text-right\" style=\"padding-right:10px;\">0</div> <div class=\"cb-col cb-col-8 text-right\">50.00</div> </div> <div class=\"cb-col cb-col-100 cb-scrd-itms\"> <div class=\"cb-col cb-col-60\">Extras</div> <div class=\"cb-col cb-col-8 text-bold cb-text-black text-right\"> 4 </div> <div class=\"cb-col-32 cb-col\"> (b 0, lb 0, w 2, nb 2, p 0)</div> </div> <div class=\"cb-col cb-col-100 cb-scrd-itms\"> <div class=\"cb-col cb-col-60\">Total</div> <div class=\"cb-col cb-col-8 text-bold text-black text-right\"> 159 </div> <div class=\"cb-col-32 cb-col\">  (9 wkts, 20 Ov) </div> </div> <div class=\"cb-col cb-col-100 cb-scrd-itms\"> <div class=\"cb-col cb-col-27\"> Did not Bat </div> <div class=\"cb-col-73 cb-col\"> <a class=\"cb-text-link\" href=\"/profiles/8117/boult\" title=\"View profile of Boult\">Boult</a> </div> </div> </div>"
      ]
     },
     "execution_count": 4,
     "metadata": {},
     "output_type": "execute_result"
    }
   ],
   "source": [
    "score1=soup.find_all(class_=\"cb-col cb-col-100 cb-ltst-wgt-hdr\")\n",
    "#score1=soup.find_all(class_=\"cb-col cb-col-100 cb-ltst-wgt-hdr\")\n",
    "score1[0]\n",
    "#len(score1) =6\n"
   ]
  },
  {
   "cell_type": "code",
   "execution_count": null,
   "id": "b6fff3ef",
   "metadata": {},
   "outputs": [],
   "source": []
  },
  {
   "cell_type": "code",
   "execution_count": 5,
   "id": "3940c36c",
   "metadata": {},
   "outputs": [
    {
     "name": "stdout",
     "output_type": "stream",
     "text": [
      "[]\n"
     ]
    }
   ],
   "source": [
    "l=[]\n",
    "for i in score1[1]:\n",
    "    bowl=score1[1].find(class_=\"cb-col cb-col-100 cb-scrd-itms\").get_text().strip()\n",
    "    #l.append(bowl)\n",
    "    #print(i)\n",
    "print(l)\n"
   ]
  },
  {
   "cell_type": "code",
   "execution_count": 6,
   "id": "3cc78d17",
   "metadata": {},
   "outputs": [
    {
     "data": {
      "text/plain": [
       "'Rohit (c)    run out (Kohli/Chahal)    19 15 1 1 126.67'"
      ]
     },
     "execution_count": 6,
     "metadata": {},
     "output_type": "execute_result"
    }
   ],
   "source": [
    "bowl_siraj=score1[0].find(class_=\"cb-col cb-col-100 cb-scrd-itms\").get_text().strip(' ')\n",
    "bowl_siraj\n",
    "#len(bowl_siraj)"
   ]
  },
  {
   "cell_type": "code",
   "execution_count": 7,
   "id": "c33a14e8",
   "metadata": {},
   "outputs": [
    {
     "data": {
      "text/plain": [
       "'Siraj   4 0 22 0 0 1 5.50'"
      ]
     },
     "execution_count": 7,
     "metadata": {},
     "output_type": "execute_result"
    }
   ],
   "source": [
    "bowl_siraj=score1[1].find(class_=\"cb-col cb-col-100 cb-scrd-itms\").get_text().strip(' ')\n",
    "bowl_siraj\n",
    "#type(bowl_jam)"
   ]
  },
  {
   "cell_type": "code",
   "execution_count": 8,
   "id": "0b1e3ead",
   "metadata": {},
   "outputs": [
    {
     "data": {
      "text/plain": [
       "6"
      ]
     },
     "execution_count": 8,
     "metadata": {},
     "output_type": "execute_result"
    }
   ],
   "source": [
    "a=[]\n",
    "for t in score1:\n",
    "    i=[d.get_text().strip()  for d in t.find_all('cb-col cb-col-100 cb-scrd-itms')]\n",
    "    a.append(l)\n",
    "len(a)"
   ]
  },
  {
   "cell_type": "code",
   "execution_count": 9,
   "id": "c548c1a0",
   "metadata": {},
   "outputs": [
    {
     "data": {
      "text/plain": [
       "[[], [], [], [], [], []]"
      ]
     },
     "execution_count": 9,
     "metadata": {},
     "output_type": "execute_result"
    }
   ],
   "source": [
    "a"
   ]
  },
  {
   "cell_type": "code",
   "execution_count": null,
   "id": "9db35046",
   "metadata": {},
   "outputs": [],
   "source": []
  }
 ],
 "metadata": {
  "kernelspec": {
   "display_name": "Python 3",
   "language": "python",
   "name": "python3"
  },
  "language_info": {
   "codemirror_mode": {
    "name": "ipython",
    "version": 3
   },
   "file_extension": ".py",
   "mimetype": "text/x-python",
   "name": "python",
   "nbconvert_exporter": "python",
   "pygments_lexer": "ipython3",
   "version": "3.9.1"
  }
 },
 "nbformat": 4,
 "nbformat_minor": 5
}
