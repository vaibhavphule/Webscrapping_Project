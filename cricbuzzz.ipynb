{
 "cells": [
  {
   "cell_type": "code",
   "execution_count": 52,
   "id": "8160b2bd",
   "metadata": {},
   "outputs": [],
   "source": [
    "from bs4 import BeautifulSoup\n",
    "import requests\n",
    "import pandas as pd\n",
    "url=\"https://www.espncricinfo.com/series/pakistan-tour-of-zimbabwe-2011-504005/zimbabwe-vs-pakistan-only-test-523731/full-scorecard\"\n",
    "page=requests.get(url)\n",
    "soup=BeautifulSoup(page.content,'lxml')\n",
    "#soup"
   ]
  },
  {
   "cell_type": "code",
   "execution_count": 111,
   "id": "a0c27ca2",
   "metadata": {},
   "outputs": [
    {
     "data": {
      "text/plain": [
       "<table class=\"table batsman\"><thead class=\"thead-light bg-light\"><tr><th style=\"width:25%\">BATTING</th><th style=\"width:25%\"> </th><th style=\"width:8%\">R</th><th class=\"text-uppercase\" style=\"width:8%\">B</th><th style=\"width:8%\">M</th><th style=\"width:8%\">4s</th><th style=\"width:8%\">6s</th><th style=\"width:10%\">SR</th></tr></thead><tbody><tr><td class=\"batsman-cell text-truncate not-out\"><a class=\"small\" data-hover=\"\" href=\"/player/tino-mawoyo-55597\" rel=\"\" target=\"_self\" title=\"View full profile of Tino Mawoyo\">Tino Mawoyo<!-- --> </a></td><td class=\"text-left\">not out </td><td class=\"font-weight-bold\">163</td><td>453</td><td>645</td><td>20</td><td>0</td><td>35.98</td></tr><tr><td class=\"p-0 border-0 d-none not-out\" colspan=\"9\"></td></tr><tr><td class=\"batsman-cell text-truncate out\"><a class=\"small\" data-hover=\"\" href=\"/player/vusi-sibanda-55787\" rel=\"\" target=\"_self\" title=\"View full profile of Vusi Sibanda\">Vusi Sibanda<!-- --> </a></td><td class=\"text-left\"><span class=\"cursor-pointer\"><i class=\"espn-icon icon-caret-sm2-down-after icon-sm text-danger font-weight-bold small pr-1\" id=\"caret-1\"></i>st †Adnan Akmal b Saeed Ajmal</span></td><td class=\"font-weight-bold\">45</td><td>66</td><td>107</td><td>9</td><td>0</td><td>68.18</td></tr><tr><td class=\"p-0 border-0 d-none out\" colspan=\"9\"></td></tr><tr><td class=\"batsman-cell text-truncate out\"><a class=\"small\" data-hover=\"\" href=\"/player/hamilton-masakadza-55608\" rel=\"\" target=\"_self\" title=\"View full profile of Hamilton Masakadza\">Hamilton Masakadza<!-- --> </a></td><td class=\"text-left\"><span class=\"cursor-pointer\"><i class=\"espn-icon icon-caret-sm2-down-after icon-sm text-danger font-weight-bold small pr-1\" id=\"caret-2\"></i> b Saeed Ajmal</span></td><td class=\"font-weight-bold\">11</td><td>41</td><td>48</td><td>2</td><td>0</td><td>26.82</td></tr><tr><td class=\"p-0 border-0 d-none out\" colspan=\"9\"></td></tr><tr><td class=\"batsman-cell text-truncate out\"><a class=\"small\" data-hover=\"\" href=\"/player/brendan-taylor-55814\" rel=\"\" target=\"_self\" title=\"View full profile of Brendan Taylor\">Brendan Taylor<!-- --> <span>(c)</span></a></td><td class=\"text-left\"><span class=\"cursor-pointer\"><i class=\"espn-icon icon-caret-sm2-down-after icon-sm text-danger font-weight-bold small pr-1\" id=\"caret-3\"></i>lbw b Saeed Ajmal</span></td><td class=\"font-weight-bold\">10</td><td>12</td><td>19</td><td>2</td><td>0</td><td>83.33</td></tr><tr><td class=\"p-0 border-0 d-none out\" colspan=\"9\"></td></tr><tr><td class=\"batsman-cell text-truncate out\"><a class=\"small\" data-hover=\"\" href=\"/player/tatenda-taibu-55805\" rel=\"\" target=\"_self\" title=\"View full profile of Tatenda Taibu\">Tatenda Taibu<!-- --> <span>†</span></a></td><td class=\"text-left\"><span class=\"cursor-pointer\"><i class=\"espn-icon icon-caret-sm2-down-after icon-sm text-danger font-weight-bold small pr-1\" id=\"caret-4\"></i>c †Adnan Akmal b Sohail Khan</span></td><td class=\"font-weight-bold\">44</td><td>70</td><td>102</td><td>6</td><td>0</td><td>62.85</td></tr><tr><td class=\"p-0 border-0 d-none out\" colspan=\"9\"></td></tr><tr><td class=\"batsman-cell text-truncate out\"><a class=\"small\" data-hover=\"\" href=\"/player/craig-ervine-55412\" rel=\"\" target=\"_self\" title=\"View full profile of Craig Ervine\">Craig Ervine<!-- --> </a></td><td class=\"text-left\"><span class=\"cursor-pointer\"><i class=\"espn-icon icon-caret-sm2-down-after icon-sm text-danger font-weight-bold small pr-1\" id=\"caret-5\"></i>c &amp; b Junaid Khan</span></td><td class=\"font-weight-bold\">49</td><td>106</td><td>141</td><td>8</td><td>0</td><td>46.22</td></tr><tr><td class=\"p-0 border-0 d-none out\" colspan=\"9\"></td></tr><tr><td class=\"batsman-cell text-truncate out\"><a class=\"small\" data-hover=\"\" href=\"/player/greg-lamb-55562\" rel=\"\" target=\"_self\" title=\"View full profile of Greg Lamb\">Greg Lamb<!-- --> </a></td><td class=\"text-left\"><span class=\"cursor-pointer\"><i class=\"espn-icon icon-caret-sm2-down-after icon-sm text-danger font-weight-bold small pr-1\" id=\"caret-6\"></i>lbw b Saeed Ajmal</span></td><td class=\"font-weight-bold\">39</td><td>105</td><td>146</td><td>4</td><td>0</td><td>37.14</td></tr><tr><td class=\"p-0 border-0 d-none out\" colspan=\"9\"></td></tr><tr><td class=\"batsman-cell text-truncate out\"><a class=\"small\" data-hover=\"\" href=\"/player/ray-price-55698\" rel=\"\" target=\"_self\" title=\"View full profile of Ray Price\">Ray Price<!-- --> </a></td><td class=\"text-left\"><span class=\"cursor-pointer\"><i class=\"espn-icon icon-caret-sm2-down-after icon-sm text-danger font-weight-bold small pr-1\" id=\"caret-7\"></i>c Azhar Ali b Aizaz Cheema</span></td><td class=\"font-weight-bold\">6</td><td>16</td><td>14</td><td>1</td><td>0</td><td>37.50</td></tr><tr><td class=\"p-0 border-0 d-none out\" colspan=\"9\"></td></tr><tr><td class=\"batsman-cell text-truncate out\"><a class=\"small\" data-hover=\"\" href=\"/player/brian-vitori-235514\" rel=\"\" target=\"_self\" title=\"View full profile of Brian Vitori\">Brian Vitori<!-- --> </a></td><td class=\"text-left\"><span class=\"cursor-pointer\"><i class=\"espn-icon icon-caret-sm2-down-after icon-sm text-danger font-weight-bold small pr-1\" id=\"caret-8\"></i>c Younis Khan b Aizaz Cheema</span></td><td class=\"font-weight-bold\">14</td><td>17</td><td>26</td><td>3</td><td>0</td><td>82.35</td></tr><tr><td class=\"p-0 border-0 d-none out\" colspan=\"9\"></td></tr><tr><td class=\"batsman-cell text-truncate out\"><a class=\"small\" data-hover=\"\" href=\"/player/kyle-jarvis-332996\" rel=\"\" target=\"_self\" title=\"View full profile of Kyle Jarvis\">Kyle Jarvis<!-- --> </a></td><td class=\"text-left\"><span class=\"cursor-pointer\"><i class=\"espn-icon icon-caret-sm2-down-after icon-sm text-danger font-weight-bold small pr-1\" id=\"caret-9\"></i> b Aizaz Cheema</span></td><td class=\"font-weight-bold\">0</td><td>5</td><td>9</td><td>0</td><td>0</td><td>0.00</td></tr><tr><td class=\"p-0 border-0 d-none out\" colspan=\"9\"></td></tr><tr><td class=\"batsman-cell text-truncate out\"><a class=\"small\" data-hover=\"\" href=\"/player/chris-mpofu-55633\" rel=\"\" target=\"_self\" title=\"View full profile of Chris Mpofu\">Chris Mpofu<!-- --> </a></td><td class=\"text-left\"><span class=\"cursor-pointer\"><i class=\"espn-icon icon-caret-sm2-down-after icon-sm text-danger font-weight-bold small pr-1\" id=\"caret-10\"></i> b Aizaz Cheema</span></td><td class=\"font-weight-bold\">8</td><td>15</td><td>24</td><td>0</td><td>1</td><td>53.33</td></tr><tr><td class=\"p-0 border-0 d-none out\" colspan=\"9\"></td></tr><tr class=\"extras\"><td colspan=\"1\">Extras</td><td class=\"text-left\">(b 7, lb 13, nb 2, w 1)</td><td class=\"text-right font-weight-bold\" colspan=\"1\">23</td><td class=\"text-right\" colspan=\"7\"></td></tr></tbody><tfoot><tr class=\"thead-light bg-light total\"><td colspan=\"1\">TOTAL</td><td class=\"text-left\">(<!-- -->150.4<!-- --> <!-- -->Ov<!-- -->, <!-- -->RR<!-- -->:<!-- --> <!-- -->2.73<!-- -->, 645 Mts<!-- -->)</td><td class=\"text-right font-weight-bold\" colspan=\"1\">412</td><td class=\"text-right\" colspan=\"7\"></td></tr><tr><td colspan=\"9\"><div><strong>Fall of wickets<!-- -->: </strong><span>1<!-- -->-<!-- -->71<!-- --> (<!-- -->Vusi Sibanda<!-- -->, 22.5 ov<!-- -->)</span><span>, <!-- -->2<!-- -->-<!-- -->91<!-- --> (<!-- -->Hamilton Masakadza<!-- -->, 36.1 ov<!-- -->)</span><span>, <!-- -->3<!-- -->-<!-- -->111<!-- --> (<!-- -->Brendan Taylor<!-- -->, 40.4 ov<!-- -->)</span><span>, <!-- -->4<!-- -->-<!-- -->176<!-- --> (<!-- -->Tatenda Taibu<!-- -->, 65.2 ov<!-- -->)</span><span>, <!-- -->5<!-- -->-<!-- -->270<!-- --> (<!-- -->Craig Ervine<!-- -->, 99.5 ov<!-- -->)</span><span>, <!-- -->6<!-- -->-<!-- -->365<!-- --> (<!-- -->Greg Lamb<!-- -->, 135.3 ov<!-- -->)</span><span>, <!-- -->7<!-- -->-<!-- -->374<!-- --> (<!-- -->Ray Price<!-- -->, 138.4 ov<!-- -->)</span><span>, <!-- -->8<!-- -->-<!-- -->394<!-- --> (<!-- -->Brian Vitori<!-- -->, 144.2 ov<!-- -->)</span><span>, <!-- -->9<!-- -->-<!-- -->394<!-- --> (<!-- -->Kyle Jarvis<!-- -->, 146.1 ov<!-- -->)</span><span>, <!-- -->10<!-- -->-<!-- -->412<!-- --> (<!-- -->Chris Mpofu<!-- -->, 150.4 ov<!-- -->)</span></div></td></tr></tfoot></table>"
      ]
     },
     "execution_count": 111,
     "metadata": {},
     "output_type": "execute_result"
    }
   ],
   "source": [
    "data=soup.find(class_=\"table batsman\")\n",
    "data"
   ]
  },
  {
   "cell_type": "code",
   "execution_count": 116,
   "id": "53e52108",
   "metadata": {},
   "outputs": [
    {
     "data": {
      "text/plain": [
       "<tr><th style=\"width:25%\">BATTING</th><th style=\"width:25%\"> </th><th style=\"width:8%\">R</th><th class=\"text-uppercase\" style=\"width:8%\">B</th><th style=\"width:8%\">M</th><th style=\"width:8%\">4s</th><th style=\"width:8%\">6s</th><th style=\"width:10%\">SR</th></tr>"
      ]
     },
     "execution_count": 116,
     "metadata": {},
     "output_type": "execute_result"
    }
   ],
   "source": [
    "rows=data.find_all('tr')\n",
    "rows[0]"
   ]
  },
  {
   "cell_type": "code",
   "execution_count": 114,
   "id": "74593426",
   "metadata": {},
   "outputs": [
    {
     "data": {
      "text/plain": [
       "[]"
      ]
     },
     "execution_count": 114,
     "metadata": {},
     "output_type": "execute_result"
    }
   ],
   "source": [
    "heads=[p.get_text() for p in rows[0].find_all('tr')]\n",
    "heads"
   ]
  },
  {
   "cell_type": "code",
   "execution_count": null,
   "id": "2c9eb990",
   "metadata": {},
   "outputs": [],
   "source": []
  }
 ],
 "metadata": {
  "kernelspec": {
   "display_name": "Python 3",
   "language": "python",
   "name": "python3"
  },
  "language_info": {
   "codemirror_mode": {
    "name": "ipython",
    "version": 3
   },
   "file_extension": ".py",
   "mimetype": "text/x-python",
   "name": "python",
   "nbconvert_exporter": "python",
   "pygments_lexer": "ipython3",
   "version": "3.9.1"
  }
 },
 "nbformat": 4,
 "nbformat_minor": 5
}
