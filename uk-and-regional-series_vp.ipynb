{
 "cells": [
  {
   "cell_type": "code",
   "execution_count": 1,
   "id": "a342b447",
   "metadata": {},
   "outputs": [],
   "source": [
    "from bs4 import BeautifulSoup\n",
    "import requests\n",
    "import pandas as pd\n",
    "url=\"https://www.metoffice.gov.uk/research/climate/maps-and-data/uk-and-regional-series#Yearorder\"\n",
    "page=requests.get(url)\n",
    "soup=BeautifulSoup(page.content,'lxml')\n",
    "#soup"
   ]
  },
  {
   "cell_type": "code",
   "execution_count": 6,
   "id": "9bae2e1b",
   "metadata": {},
   "outputs": [
    {
     "data": {
      "text/plain": [
       "['UK',\n",
       " 'England',\n",
       " 'Wales',\n",
       " 'Scotland',\n",
       " 'Northern Ireland',\n",
       " 'England & Wales',\n",
       " 'England N',\n",
       " 'England S',\n",
       " 'Scotland N',\n",
       " 'Scotland E',\n",
       " 'Scotland W',\n",
       " 'England E & NE',\n",
       " 'England NW/Wales N',\n",
       " 'Midlands',\n",
       " 'East Anglia',\n",
       " 'England SW/Wales S',\n",
       " 'England SE/Central S']"
      ]
     },
     "execution_count": 6,
     "metadata": {},
     "output_type": "execute_result"
    }
   ],
   "source": [
    "reg=soup.find(id=\"region\").get_text().split('\\n')[2:]\n",
    "reg.pop()\n",
    "reg"
   ]
  },
  {
   "cell_type": "code",
   "execution_count": 8,
   "id": "25e09e86",
   "metadata": {},
   "outputs": [
    {
     "data": {
      "text/plain": [
       "['Max temp',\n",
       " 'Min temp',\n",
       " 'Mean temp',\n",
       " 'Sunshine',\n",
       " 'Rainfall',\n",
       " 'Rain days ≥1.0mm',\n",
       " 'Days of air frost']"
      ]
     },
     "execution_count": 8,
     "metadata": {},
     "output_type": "execute_result"
    }
   ],
   "source": [
    "para=soup.find(id=\"parameter\").get_text().split('\\n')[2:]\n",
    "para.pop()\n",
    "para"
   ]
  },
  {
   "cell_type": "code",
   "execution_count": null,
   "id": "db497b8a",
   "metadata": {},
   "outputs": [],
   "source": []
  }
 ],
 "metadata": {
  "kernelspec": {
   "display_name": "Python 3",
   "language": "python",
   "name": "python3"
  },
  "language_info": {
   "codemirror_mode": {
    "name": "ipython",
    "version": 3
   },
   "file_extension": ".py",
   "mimetype": "text/x-python",
   "name": "python",
   "nbconvert_exporter": "python",
   "pygments_lexer": "ipython3",
   "version": "3.9.1"
  }
 },
 "nbformat": 4,
 "nbformat_minor": 5
}
