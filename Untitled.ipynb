{
 "cells": [
  {
   "cell_type": "code",
   "execution_count": 1,
   "id": "fdbf0ae2",
   "metadata": {},
   "outputs": [
    {
     "data": {
      "text/plain": [
       "<html><head>\n",
       "<title>Access Denied</title>\n",
       "</head><body>\n",
       "<h1>Access Denied</h1>\n",
       " \n",
       "You don't have permission to access \"http://www.monsterindia.com/srp/results?\" on this server.<p>\n",
       "Reference #18.7cf856b8.1619701389.31e3d509\n",
       "\n",
       "\n",
       "</p></body></html>"
      ]
     },
     "execution_count": 1,
     "metadata": {},
     "output_type": "execute_result"
    }
   ],
   "source": [
    " import requests\n",
    "from bs4 import BeautifulSoup\n",
    "url=\"https://www.monsterindia.com/srp/results?query=python&locations=Pune\"\n",
    "page=requests.get(url)\n",
    "soup=BeautifulSoup(page.content,'html5lib')\n",
    "soup"
   ]
  },
  {
   "cell_type": "code",
   "execution_count": null,
   "id": "a5e7834b",
   "metadata": {},
   "outputs": [],
   "source": []
  }
 ],
 "metadata": {
  "kernelspec": {
   "display_name": "Python 3",
   "language": "python",
   "name": "python3"
  },
  "language_info": {
   "codemirror_mode": {
    "name": "ipython",
    "version": 3
   },
   "file_extension": ".py",
   "mimetype": "text/x-python",
   "name": "python",
   "nbconvert_exporter": "python",
   "pygments_lexer": "ipython3",
   "version": "3.9.1"
  }
 },
 "nbformat": 4,
 "nbformat_minor": 5
}
