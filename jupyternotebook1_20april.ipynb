{
 "cells": [
  {
   "cell_type": "code",
   "execution_count": 1,
   "id": "e48d37fa",
   "metadata": {},
   "outputs": [
    {
     "data": {
      "text/plain": [
       "'Python'"
      ]
     },
     "execution_count": 1,
     "metadata": {},
     "output_type": "execute_result"
    }
   ],
   "source": [
    "s='Python'\n",
    "s"
   ]
  },
  {
   "cell_type": "markdown",
   "id": "c91ce2e5",
   "metadata": {},
   "source": [
    "# Heading in Jupyter Notebook "
   ]
  },
  {
   "cell_type": "markdown",
   "id": "674bc4be",
   "metadata": {},
   "source": [
    "# h1=> Heading 1 in HTML\n",
    "## h2=> Heading 2 in HTML\n",
    "### h3=> Heading 3 in HTML\n",
    "#### h4=> heading 4 in HTML\n",
    "##### h5=> Heading 5 in HTML"
   ]
  },
  {
   "cell_type": "markdown",
   "id": "86253a4c",
   "metadata": {},
   "source": [
    "## How to start jupyter notebook?\n",
    "1. **Go to specific path and open cmd on that path**\n",
    "2. **on cmd type ``jupyter notebook``**\n",
    "\n",
    "## Jupyter Notebook Shortcut:\n",
    "1. **To run current cell and create new cell**\n",
    "    **``shift + enter``**\n",
    "\t   \n",
    "2. **To run current cell**\n",
    "\t**``ctrl + enter``**\n"
   ]
  },
  {
   "cell_type": "markdown",
   "id": "7b1e481c",
   "metadata": {},
   "source": [
    "<img src=\"biogas-plant.jpg\">"
   ]
  },
  {
   "cell_type": "code",
   "execution_count": null,
   "id": "dba84bda",
   "metadata": {},
   "outputs": [],
   "source": []
  }
 ],
 "metadata": {
  "kernelspec": {
   "display_name": "Python 3",
   "language": "python",
   "name": "python3"
  },
  "language_info": {
   "codemirror_mode": {
    "name": "ipython",
    "version": 3
   },
   "file_extension": ".py",
   "mimetype": "text/x-python",
   "name": "python",
   "nbconvert_exporter": "python",
   "pygments_lexer": "ipython3",
   "version": "3.9.1"
  }
 },
 "nbformat": 4,
 "nbformat_minor": 5
}
