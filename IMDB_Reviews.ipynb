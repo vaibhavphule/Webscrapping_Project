{
 "cells": [
  {
   "cell_type": "markdown",
   "metadata": {},
   "source": [
    "## Import neccessary Libraries"
   ]
  },
  {
   "cell_type": "code",
   "execution_count": 15,
   "metadata": {},
   "outputs": [],
   "source": [
    "import requests\n",
    "from bs4 import BeautifulSoup"
   ]
  },
  {
   "cell_type": "code",
   "execution_count": 2,
   "metadata": {},
   "outputs": [],
   "source": [
    "url=\"https://www.imdb.com/search/title/?release_date=2017-01-01,2017-12-31&sort=num_votes,desc&start=1&ref_=adv_nxt\"\n",
    "page=requests.get(url)\n",
    "soup=BeautifulSoup(page.content,'html5lib')\n",
    "#soup"
   ]
  },
  {
   "cell_type": "code",
   "execution_count": 16,
   "metadata": {},
   "outputs": [],
   "source": [
    "all_movies=soup.find(class_=\"wikitable sortable plainrowheaders jquery-tablesorter\")\n",
    "all_movies"
   ]
  },
  {
   "cell_type": "code",
   "execution_count": 17,
   "metadata": {},
   "outputs": [
    {
     "ename": "TypeError",
     "evalue": "object of type 'NoneType' has no len()",
     "output_type": "error",
     "traceback": [
      "\u001b[1;31m---------------------------------------------------------------------------\u001b[0m",
      "\u001b[1;31mTypeError\u001b[0m                                 Traceback (most recent call last)",
      "\u001b[1;32m<ipython-input-17-680ef03744eb>\u001b[0m in \u001b[0;36m<module>\u001b[1;34m\u001b[0m\n\u001b[1;32m----> 1\u001b[1;33m \u001b[0mlen\u001b[0m\u001b[1;33m(\u001b[0m\u001b[0mall_movies\u001b[0m\u001b[1;33m)\u001b[0m\u001b[1;33m\u001b[0m\u001b[1;33m\u001b[0m\u001b[0m\n\u001b[0m",
      "\u001b[1;31mTypeError\u001b[0m: object of type 'NoneType' has no len()"
     ]
    }
   ],
   "source": [
    "len(all_movies)"
   ]
  },
  {
   "cell_type": "code",
   "execution_count": 8,
   "metadata": {},
   "outputs": [],
   "source": [
    "first=all_movies[0]\n",
    "#first"
   ]
  },
  {
   "cell_type": "code",
   "execution_count": 9,
   "metadata": {},
   "outputs": [
    {
     "data": {
      "text/plain": [
       "'1.Logan(2017)'"
      ]
     },
     "execution_count": 9,
     "metadata": {},
     "output_type": "execute_result"
    }
   ],
   "source": [
    "mname=first.find(class_=\"lister-item-header\").get_text().replace('\\n','').replace(' ','')\n",
    "mname"
   ]
  },
  {
   "cell_type": "code",
   "execution_count": 19,
   "metadata": {},
   "outputs": [
    {
     "data": {
      "text/plain": [
       "'8.1'"
      ]
     },
     "execution_count": 19,
     "metadata": {},
     "output_type": "execute_result"
    }
   ],
   "source": [
    "fm_rate=first.find(class_=\"inline-block ratings-imdb-rating\").get_text().strip()\n",
    "fm_rate"
   ]
  },
  {
   "cell_type": "code",
   "execution_count": 23,
   "metadata": {},
   "outputs": [
    {
     "data": {
      "text/plain": [
       "'77'"
      ]
     },
     "execution_count": 23,
     "metadata": {},
     "output_type": "execute_result"
    }
   ],
   "source": [
    "fm_meta=first.find(class_=\"inline-block ratings-metascore\").get_text().strip('\\n Metascore')\n",
    "fm_meta"
   ]
  },
  {
   "cell_type": "code",
   "execution_count": 28,
   "metadata": {},
   "outputs": [
    {
     "data": {
      "text/plain": [
       "'Votes:\\n                660,832\\n    |                Gross:\\n                $226.28M'"
      ]
     },
     "execution_count": 28,
     "metadata": {},
     "output_type": "execute_result"
    }
   ],
   "source": [
    "vg_first=first.find(class_=\"sort-num_votes-visible\").get_text().strip()\n",
    "vg_first"
   ]
  },
  {
   "cell_type": "code",
   "execution_count": 34,
   "metadata": {},
   "outputs": [
    {
     "data": {
      "text/plain": [
       "'660832'"
      ]
     },
     "execution_count": 34,
     "metadata": {},
     "output_type": "execute_result"
    }
   ],
   "source": [
    "vg_votes=vg_first.split('|')[0].strip(' Votes:\\n').replace(',','')\n",
    "vg_votes"
   ]
  },
  {
   "cell_type": "code",
   "execution_count": 35,
   "metadata": {},
   "outputs": [
    {
     "data": {
      "text/plain": [
       "'$226.28M'"
      ]
     },
     "execution_count": 35,
     "metadata": {},
     "output_type": "execute_result"
    }
   ],
   "source": [
    "vg_gross=vg_first.split('|')[1].strip(' Gross:\\n')\n",
    "vg_gross"
   ]
  },
  {
   "cell_type": "code",
   "execution_count": 36,
   "metadata": {},
   "outputs": [
    {
     "data": {
      "text/plain": [
       "'660832'"
      ]
     },
     "execution_count": 36,
     "metadata": {},
     "output_type": "execute_result"
    }
   ],
   "source": [
    "votes1=first.find(class_=\"sort-num_votes-visible\").get_text().strip().split('|')[0].strip(' Votes:\\n').replace(',','')\n",
    "votes1"
   ]
  },
  {
   "cell_type": "code",
   "execution_count": 37,
   "metadata": {},
   "outputs": [
    {
     "data": {
      "text/plain": [
       "'$226.28M'"
      ]
     },
     "execution_count": 37,
     "metadata": {},
     "output_type": "execute_result"
    }
   ],
   "source": [
    "gross1=first.find(class_=\"sort-num_votes-visible\").get_text().strip().split('|')[1].strip(' Gross:\\n')\n",
    "gross1"
   ]
  },
  {
   "cell_type": "code",
   "execution_count": 38,
   "metadata": {},
   "outputs": [
    {
     "data": {
      "text/plain": [
       "('1.Logan(2017)', '8.1', '77', '660832', '$226.28M')"
      ]
     },
     "execution_count": 38,
     "metadata": {},
     "output_type": "execute_result"
    }
   ],
   "source": [
    "mname,fm_rate,fm_meta,votes1,gross1"
   ]
  },
  {
   "cell_type": "code",
   "execution_count": 46,
   "metadata": {},
   "outputs": [],
   "source": [
    "names,ratings,metas,votes,gross=([],[],[],[],[])\n",
    "for first in all_movies:\n",
    "    if first.find(class_=\"inline-block ratings-metascore\")!=None:\n",
    "        names.append(first.find(class_=\"lister-item-header\").get_text().replace('\\n','').replace(' ',''))\n",
    "        ratings.append(first.find(class_=\"inline-block ratings-imdb-rating\").get_text().strip())\n",
    "        metas.append(first.find(class_=\"inline-block ratings-metascore\").get_text().strip('\\n Metascore'))\n",
    "        \n",
    "        vg=first.find(class_=\"sort-num_votes-visible\").get_text().strip().split('|')\n",
    "        \n",
    "        if len(vg)==2:\n",
    "            votes.append(first.find(class_=\"sort-num_votes-visible\").get_text().strip().split('|')[0].strip(' Votes:\\n').replace(',',''))\n",
    "            gross.append(first.find(class_=\"sort-num_votes-visible\").get_text().strip().split('|')[1].strip(' Gross:\\n'))\n",
    "        else:\n",
    "            votes.append(first.find(class_=\"sort-num_votes-visible\").get_text().strip().split('|')[0].strip(' Votes:\\n').replace(',',''))\n",
    "            gross.append(None)"
   ]
  },
  {
   "cell_type": "code",
   "execution_count": 47,
   "metadata": {},
   "outputs": [
    {
     "data": {
      "text/plain": [
       "(42, 42, 42, 42, 42)"
      ]
     },
     "execution_count": 47,
     "metadata": {},
     "output_type": "execute_result"
    }
   ],
   "source": [
    "len(names),len(ratings),len(metas),len(votes),len(gross)"
   ]
  },
  {
   "cell_type": "code",
   "execution_count": 48,
   "metadata": {},
   "outputs": [
    {
     "data": {
      "text/html": [
       "<div>\n",
       "<style scoped>\n",
       "    .dataframe tbody tr th:only-of-type {\n",
       "        vertical-align: middle;\n",
       "    }\n",
       "\n",
       "    .dataframe tbody tr th {\n",
       "        vertical-align: top;\n",
       "    }\n",
       "\n",
       "    .dataframe thead th {\n",
       "        text-align: right;\n",
       "    }\n",
       "</style>\n",
       "<table border=\"1\" class=\"dataframe\">\n",
       "  <thead>\n",
       "    <tr style=\"text-align: right;\">\n",
       "      <th></th>\n",
       "      <th>Names</th>\n",
       "      <th>Ratings</th>\n",
       "      <th>Metascore</th>\n",
       "      <th>Votes</th>\n",
       "      <th>Gross</th>\n",
       "    </tr>\n",
       "  </thead>\n",
       "  <tbody>\n",
       "    <tr>\n",
       "      <th>0</th>\n",
       "      <td>1.Logan(2017)</td>\n",
       "      <td>8.1</td>\n",
       "      <td>77</td>\n",
       "      <td>660832</td>\n",
       "      <td>$226.28M</td>\n",
       "    </tr>\n",
       "    <tr>\n",
       "      <th>1</th>\n",
       "      <td>2.Thor:Ragnarok(2017)</td>\n",
       "      <td>7.9</td>\n",
       "      <td>74</td>\n",
       "      <td>606820</td>\n",
       "      <td>$315.06M</td>\n",
       "    </tr>\n",
       "    <tr>\n",
       "      <th>2</th>\n",
       "      <td>3.WonderWoman(2017)</td>\n",
       "      <td>7.4</td>\n",
       "      <td>76</td>\n",
       "      <td>588301</td>\n",
       "      <td>$412.56M</td>\n",
       "    </tr>\n",
       "    <tr>\n",
       "      <th>3</th>\n",
       "      <td>4.GuardiansoftheGalaxyVol.2(2017)</td>\n",
       "      <td>7.6</td>\n",
       "      <td>67</td>\n",
       "      <td>582780</td>\n",
       "      <td>$389.81M</td>\n",
       "    </tr>\n",
       "    <tr>\n",
       "      <th>4</th>\n",
       "      <td>5.StarWars:EpisodeVIII-TheLastJedi(2017)</td>\n",
       "      <td>7.0</td>\n",
       "      <td>84</td>\n",
       "      <td>573237</td>\n",
       "      <td>$620.18M</td>\n",
       "    </tr>\n",
       "    <tr>\n",
       "      <th>5</th>\n",
       "      <td>6.Dunkirk(2017)</td>\n",
       "      <td>7.8</td>\n",
       "      <td>94</td>\n",
       "      <td>568141</td>\n",
       "      <td>$188.37M</td>\n",
       "    </tr>\n",
       "    <tr>\n",
       "      <th>6</th>\n",
       "      <td>7.Spider-Man:Homecoming(2017)</td>\n",
       "      <td>7.4</td>\n",
       "      <td>73</td>\n",
       "      <td>526430</td>\n",
       "      <td>$334.20M</td>\n",
       "    </tr>\n",
       "    <tr>\n",
       "      <th>7</th>\n",
       "      <td>8.GetOut(I)(2017)</td>\n",
       "      <td>7.7</td>\n",
       "      <td>85</td>\n",
       "      <td>503777</td>\n",
       "      <td>$176.04M</td>\n",
       "    </tr>\n",
       "    <tr>\n",
       "      <th>8</th>\n",
       "      <td>9.BladeRunner2049(2017)</td>\n",
       "      <td>8.0</td>\n",
       "      <td>81</td>\n",
       "      <td>474325</td>\n",
       "      <td>$92.05M</td>\n",
       "    </tr>\n",
       "    <tr>\n",
       "      <th>9</th>\n",
       "      <td>10.It(I)(2017)</td>\n",
       "      <td>7.3</td>\n",
       "      <td>69</td>\n",
       "      <td>466765</td>\n",
       "      <td>$327.48M</td>\n",
       "    </tr>\n",
       "    <tr>\n",
       "      <th>10</th>\n",
       "      <td>11.BabyDriver(2017)</td>\n",
       "      <td>7.6</td>\n",
       "      <td>86</td>\n",
       "      <td>449666</td>\n",
       "      <td>$107.83M</td>\n",
       "    </tr>\n",
       "    <tr>\n",
       "      <th>11</th>\n",
       "      <td>12.ThreeBillboardsOutsideEbbing,Missouri(2017)</td>\n",
       "      <td>8.1</td>\n",
       "      <td>88</td>\n",
       "      <td>444987</td>\n",
       "      <td>$54.51M</td>\n",
       "    </tr>\n",
       "    <tr>\n",
       "      <th>12</th>\n",
       "      <td>13.JusticeLeague(2017)</td>\n",
       "      <td>6.2</td>\n",
       "      <td>45</td>\n",
       "      <td>410383</td>\n",
       "      <td>$229.02M</td>\n",
       "    </tr>\n",
       "    <tr>\n",
       "      <th>13</th>\n",
       "      <td>14.Coco(I)(2017)</td>\n",
       "      <td>8.4</td>\n",
       "      <td>81</td>\n",
       "      <td>400024</td>\n",
       "      <td>$209.73M</td>\n",
       "    </tr>\n",
       "    <tr>\n",
       "      <th>14</th>\n",
       "      <td>15.TheShapeofWater(2017)</td>\n",
       "      <td>7.3</td>\n",
       "      <td>87</td>\n",
       "      <td>379089</td>\n",
       "      <td>$63.86M</td>\n",
       "    </tr>\n",
       "  </tbody>\n",
       "</table>\n",
       "</div>"
      ],
      "text/plain": [
       "                                             Names Ratings Metascore   Votes  \\\n",
       "0                                    1.Logan(2017)     8.1        77  660832   \n",
       "1                            2.Thor:Ragnarok(2017)     7.9        74  606820   \n",
       "2                              3.WonderWoman(2017)     7.4        76  588301   \n",
       "3                4.GuardiansoftheGalaxyVol.2(2017)     7.6        67  582780   \n",
       "4         5.StarWars:EpisodeVIII-TheLastJedi(2017)     7.0        84  573237   \n",
       "5                                  6.Dunkirk(2017)     7.8        94  568141   \n",
       "6                    7.Spider-Man:Homecoming(2017)     7.4        73  526430   \n",
       "7                                8.GetOut(I)(2017)     7.7        85  503777   \n",
       "8                          9.BladeRunner2049(2017)     8.0        81  474325   \n",
       "9                                   10.It(I)(2017)     7.3        69  466765   \n",
       "10                             11.BabyDriver(2017)     7.6        86  449666   \n",
       "11  12.ThreeBillboardsOutsideEbbing,Missouri(2017)     8.1        88  444987   \n",
       "12                          13.JusticeLeague(2017)     6.2        45  410383   \n",
       "13                                14.Coco(I)(2017)     8.4        81  400024   \n",
       "14                        15.TheShapeofWater(2017)     7.3        87  379089   \n",
       "\n",
       "       Gross  \n",
       "0   $226.28M  \n",
       "1   $315.06M  \n",
       "2   $412.56M  \n",
       "3   $389.81M  \n",
       "4   $620.18M  \n",
       "5   $188.37M  \n",
       "6   $334.20M  \n",
       "7   $176.04M  \n",
       "8    $92.05M  \n",
       "9   $327.48M  \n",
       "10  $107.83M  \n",
       "11   $54.51M  \n",
       "12  $229.02M  \n",
       "13  $209.73M  \n",
       "14   $63.86M  "
      ]
     },
     "execution_count": 48,
     "metadata": {},
     "output_type": "execute_result"
    }
   ],
   "source": [
    "import pandas as pd\n",
    "d={\"Names\":names,\"Ratings\":ratings,\"Metascore\":metas,\"Votes\":votes,\"Gross\":gross}\n",
    "df=pd.DataFrame(d)\n",
    "df.head(15)\n"
   ]
  },
  {
   "cell_type": "code",
   "execution_count": 49,
   "metadata": {},
   "outputs": [],
   "source": [
    "df.to_csv(\"movie_ratings.csv\",index=False)"
   ]
  },
  {
   "cell_type": "code",
   "execution_count": null,
   "metadata": {},
   "outputs": [],
   "source": []
  }
 ],
 "metadata": {
  "kernelspec": {
   "display_name": "Python 3",
   "language": "python",
   "name": "python3"
  },
  "language_info": {
   "codemirror_mode": {
    "name": "ipython",
    "version": 3
   },
   "file_extension": ".py",
   "mimetype": "text/x-python",
   "name": "python",
   "nbconvert_exporter": "python",
   "pygments_lexer": "ipython3",
   "version": "3.9.1"
  }
 },
 "nbformat": 4,
 "nbformat_minor": 4
}
